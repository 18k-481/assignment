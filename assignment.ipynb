{
  "nbformat": 4,
  "nbformat_minor": 0,
  "metadata": {
    "colab": {
      "name": "assignment",
      "provenance": [],
      "collapsed_sections": [],
      "authorship_tag": "ABX9TyPJqHoabd7vyAFqffHGoZyP",
      "include_colab_link": true
    },
    "kernelspec": {
      "name": "python3",
      "display_name": "Python 3"
    }
  },
  "cells": [
    {
      "cell_type": "markdown",
      "metadata": {
        "id": "view-in-github",
        "colab_type": "text"
      },
      "source": [
        "<a href=\"https://colab.research.google.com/github/psanjurao/assignment/blob/master/assignment.ipynb\" target=\"_parent\"><img src=\"https://colab.research.google.com/assets/colab-badge.svg\" alt=\"Open In Colab\"/></a>"
      ]
    },
    {
      "cell_type": "code",
      "metadata": {
        "id": "6sW5N-nHbCD0",
        "colab_type": "code",
        "colab": {
          "base_uri": "https://localhost:8080/",
          "height": 51
        },
        "outputId": "332b31f4-b0b3-4619-bb69-122eee9d4dac"
      },
      "source": [
        "#problem:1\n",
        "yr=int(input(\"enter year \"))\n",
        "d={0:\"monkey\",1:\"rooster\",2:\"dog\",3:\"pig\",4:\"rat\",5:\"ox\",6:\"tiger\",7:\"rabbit\",8:\"dragon\",9:\"snake\",10:\"horse\"}\n",
        "x=yr%12\n",
        "if x in d:\n",
        "  print(d[x])\n",
        "else:\n",
        "    print(\"sheep\")"
      ],
      "execution_count": null,
      "outputs": [
        {
          "output_type": "stream",
          "text": [
            "enter year 2000\n",
            "dragon\n"
          ],
          "name": "stdout"
        }
      ]
    },
    {
      "cell_type": "code",
      "metadata": {
        "id": "T7dPg4hgc-QC",
        "colab_type": "code",
        "colab": {
          "base_uri": "https://localhost:8080/",
          "height": 68
        },
        "outputId": "be959b2c-f5eb-4c5b-f5d5-99ef9e4f84d4"
      },
      "source": [
        "#problem:2\n",
        "dis=int(input(\"enter distance \"))\n",
        "w=int(input(\"enter weight \"))\n",
        "if dis>=500:\n",
        "    if w>=100:\n",
        "        cost=7*dis\n",
        "    elif w>=10 and w<100:\n",
        "        cost=6*dis\n",
        "    else:\n",
        "        cost=5*dis\n",
        "else:\n",
        "    if w>=100:\n",
        "        cost=8*dis\n",
        "    else:\n",
        "        cost=5*dis\n",
        "print(\"goods charge \",cost)"
      ],
      "execution_count": null,
      "outputs": [
        {
          "output_type": "stream",
          "text": [
            "enter distance 250\n",
            "enter weight 50\n",
            "goods charge  1250\n"
          ],
          "name": "stdout"
        }
      ]
    },
    {
      "cell_type": "code",
      "metadata": {
        "id": "iBjW0B9DdNbf",
        "colab_type": "code",
        "colab": {
          "base_uri": "https://localhost:8080/",
          "height": 68
        },
        "outputId": "a8051f3e-9d9a-48fe-ac75-075deefb7c1b"
      },
      "source": [
        "#problem:3\n",
        "seat=input(\"enter type of seat \")\n",
        "mode=input(\"enter payment mode \")\n",
        "if seat=='circle':\n",
        "    if mode=='cash':\n",
        "        cost=750-((10/100)*750)\n",
        "        print(cost)\n",
        "    else:\n",
        "        cost=750-((5/100)*750)\n",
        "        print(cost)\n",
        "elif seat=='stall':\n",
        "    if mode=='cash':\n",
        "        cost=625-((10/100)*625)\n",
        "        print(cost)\n",
        "    else:\n",
        "        cost=625-((5/100)*625)\n",
        "        print(cost)\n",
        "if seat=='upperclass':\n",
        "    if mode=='cash':\n",
        "        cost=850-((10/100)*850)\n",
        "        print(cost)\n",
        "    else:\n",
        "        cost=850-((5/100)*850)\n",
        "        print(cost)\n",
        "else:\n",
        "    if mode=='cash':\n",
        "        cost=1000-((10/100)*1000)\n",
        "        print(cost)\n",
        "    else:\n",
        "        cost=1000-((5/100)*1000)\n",
        "        print(cost)"
      ],
      "execution_count": null,
      "outputs": [
        {
          "output_type": "stream",
          "text": [
            "enter type of seat box\n",
            "enter payment mode credit\n",
            "950.0\n"
          ],
          "name": "stdout"
        }
      ]
    },
    {
      "cell_type": "code",
      "metadata": {
        "id": "QlwE8Yj-d0Ux",
        "colab_type": "code",
        "colab": {
          "base_uri": "https://localhost:8080/",
          "height": 85
        },
        "outputId": "08baba84-cd70-478c-f360-eccd695915d8"
      },
      "source": [
        "#problrm:4\n",
        "m=float(input(\"weight of water\"))\n",
        "t1=int(input(\"initial temperature \"))\n",
        "t2=int(input(\"final temperature \"))\n",
        "q=m*(t2-t1)*4184\n",
        "print(q,\"J\")"
      ],
      "execution_count": null,
      "outputs": [
        {
          "output_type": "stream",
          "text": [
            "weight of water2\n",
            "initial temperature 0\n",
            "final temperature 150\n",
            "1255200.0 J\n"
          ],
          "name": "stdout"
        }
      ]
    },
    {
      "cell_type": "code",
      "metadata": {
        "id": "9agXqhqad_zO",
        "colab_type": "code",
        "colab": {
          "base_uri": "https://localhost:8080/",
          "height": 51
        },
        "outputId": "c060e13b-a0e5-4d38-e5cc-e40a5afad65a"
      },
      "source": [
        "#problem:5\n",
        "month=input(\"enter month \")\n",
        "if month=='december' or month=='january' or month=='february':\n",
        "    print(\"Winter\")\n",
        "if month=='march' or month=='april' or month=='may':\n",
        "    print(\"Spring\")\n",
        "if month=='june' or month=='july' or month=='august':\n",
        "    print(\"Summer\")\n",
        "if month=='september' or month=='october' or month=='november':\n",
        "    print(\"Autum\")"
      ],
      "execution_count": null,
      "outputs": [
        {
          "output_type": "stream",
          "text": [
            "enter month august\n",
            "Summer\n"
          ],
          "name": "stdout"
        }
      ]
    },
    {
      "cell_type": "code",
      "metadata": {
        "id": "ylyecGlKeXhW",
        "colab_type": "code",
        "colab": {
          "base_uri": "https://localhost:8080/",
          "height": 68
        },
        "outputId": "62353869-e97b-48d4-cf99-e05fd04b9972"
      },
      "source": [
        "#problem:6\n",
        "h=int(input(\"enter height \"))\n",
        "w=int(input(\"enter weight \"))\n",
        "bmi=(w*0.4535)/(h*0.0254)**2\n",
        "if bmi<18.5:\n",
        "    print(\"underweight\")\n",
        "elif bmi>=18.5 or bmi<25.0:\n",
        "    print(\"normal\")\n",
        "elif bmi>=25.0 or bmi<30.0:\n",
        "    print(\"overweight\")\n",
        "else:\n",
        "    print(\"obese\")"
      ],
      "execution_count": null,
      "outputs": [
        {
          "output_type": "stream",
          "text": [
            "enter height 5\n",
            "enter weight 45\n",
            "normal\n"
          ],
          "name": "stdout"
        }
      ]
    },
    {
      "cell_type": "code",
      "metadata": {
        "id": "a18K5IDKediC",
        "colab_type": "code",
        "colab": {
          "base_uri": "https://localhost:8080/",
          "height": 51
        },
        "outputId": "d204193a-d998-4d3c-95da-c7f000f54aa7"
      },
      "source": [
        "#problem:7\n",
        "i=int(input(\"enter value between 100 and 1000 \"))\n",
        "sum=0\n",
        "rem=0\n",
        "while i>0:\n",
        "    rem=i%10\n",
        "    sum=sum+rem\n",
        "    i=i//10\n",
        "print(sum)"
      ],
      "execution_count": null,
      "outputs": [
        {
          "output_type": "stream",
          "text": [
            "enter value between 100 and 1000 500\n",
            "5\n"
          ],
          "name": "stdout"
        }
      ]
    },
    {
      "cell_type": "code",
      "metadata": {
        "id": "jbPDqU3se2Fj",
        "colab_type": "code",
        "colab": {
          "base_uri": "https://localhost:8080/",
          "height": 1000
        },
        "outputId": "d4de43e7-d147-4227-bce8-c4da93dba7cc"
      },
      "source": [
        "#problem 8\n",
        "for i in range(1,1000):\n",
        "    num=i\n",
        "    rem=0\n",
        "    sum=0\n",
        "    while i>0:\n",
        "        rem=i%10\n",
        "        sum=sum*10+rem\n",
        "        i=i//10\n",
        "    if sum==num:\n",
        "        print(num)"
      ],
      "execution_count": null,
      "outputs": [
        {
          "output_type": "stream",
          "text": [
            "1\n",
            "2\n",
            "3\n",
            "4\n",
            "5\n",
            "6\n",
            "7\n",
            "8\n",
            "9\n",
            "11\n",
            "22\n",
            "33\n",
            "44\n",
            "55\n",
            "66\n",
            "77\n",
            "88\n",
            "99\n",
            "101\n",
            "111\n",
            "121\n",
            "131\n",
            "141\n",
            "151\n",
            "161\n",
            "171\n",
            "181\n",
            "191\n",
            "202\n",
            "212\n",
            "222\n",
            "232\n",
            "242\n",
            "252\n",
            "262\n",
            "272\n",
            "282\n",
            "292\n",
            "303\n",
            "313\n",
            "323\n",
            "333\n",
            "343\n",
            "353\n",
            "363\n",
            "373\n",
            "383\n",
            "393\n",
            "404\n",
            "414\n",
            "424\n",
            "434\n",
            "444\n",
            "454\n",
            "464\n",
            "474\n",
            "484\n",
            "494\n",
            "505\n",
            "515\n",
            "525\n",
            "535\n",
            "545\n",
            "555\n",
            "565\n",
            "575\n",
            "585\n",
            "595\n",
            "606\n",
            "616\n",
            "626\n",
            "636\n",
            "646\n",
            "656\n",
            "666\n",
            "676\n",
            "686\n",
            "696\n",
            "707\n",
            "717\n",
            "727\n",
            "737\n",
            "747\n",
            "757\n",
            "767\n",
            "777\n",
            "787\n",
            "797\n",
            "808\n",
            "818\n",
            "828\n",
            "838\n",
            "848\n",
            "858\n",
            "868\n",
            "878\n",
            "888\n",
            "898\n",
            "909\n",
            "919\n",
            "929\n",
            "939\n",
            "949\n",
            "959\n",
            "969\n",
            "979\n",
            "989\n",
            "999\n"
          ],
          "name": "stdout"
        }
      ]
    },
    {
      "cell_type": "code",
      "metadata": {
        "id": "wHFEcnY6e5Yy",
        "colab_type": "code",
        "colab": {
          "base_uri": "https://localhost:8080/",
          "height": 102
        },
        "outputId": "3921ba89-9e4d-444f-cb2e-7f4891d9d24e"
      },
      "source": [
        "#problem 9\n",
        "for i in range(1,1000):\n",
        "    num=i\n",
        "    rem=0\n",
        "    sum=0\n",
        "    while i>0:\n",
        "        rem=i%10\n",
        "        sum=sum+rem**3\n",
        "        i=i//10\n",
        "    if sum==num:\n",
        "        print(num)"
      ],
      "execution_count": null,
      "outputs": [
        {
          "output_type": "stream",
          "text": [
            "1\n",
            "153\n",
            "370\n",
            "371\n",
            "407\n"
          ],
          "name": "stdout"
        }
      ]
    },
    {
      "cell_type": "code",
      "metadata": {
        "id": "URl_ZGAzfBnj",
        "colab_type": "code",
        "colab": {
          "base_uri": "https://localhost:8080/",
          "height": 1000
        },
        "outputId": "509385d1-8263-4028-c605-6adef603ce04"
      },
      "source": [
        "#problem:10\n",
        "for i in range(1,100):\n",
        "    if i%3==0 and i%5==0:\n",
        "        print(\"fizz buzz\")\n",
        "    elif i%3==0:\n",
        "        print(\"Fizz\")\n",
        "    elif i%5==0:\n",
        "        print(\"Buzz\")\n",
        "    else:\n",
        "        print(i)"
      ],
      "execution_count": null,
      "outputs": [
        {
          "output_type": "stream",
          "text": [
            "1\n",
            "2\n",
            "Fizz\n",
            "4\n",
            "Buzz\n",
            "Fizz\n",
            "7\n",
            "8\n",
            "Fizz\n",
            "Buzz\n",
            "11\n",
            "Fizz\n",
            "13\n",
            "14\n",
            "fizz buzz\n",
            "16\n",
            "17\n",
            "Fizz\n",
            "19\n",
            "Buzz\n",
            "Fizz\n",
            "22\n",
            "23\n",
            "Fizz\n",
            "Buzz\n",
            "26\n",
            "Fizz\n",
            "28\n",
            "29\n",
            "fizz buzz\n",
            "31\n",
            "32\n",
            "Fizz\n",
            "34\n",
            "Buzz\n",
            "Fizz\n",
            "37\n",
            "38\n",
            "Fizz\n",
            "Buzz\n",
            "41\n",
            "Fizz\n",
            "43\n",
            "44\n",
            "fizz buzz\n",
            "46\n",
            "47\n",
            "Fizz\n",
            "49\n",
            "Buzz\n",
            "Fizz\n",
            "52\n",
            "53\n",
            "Fizz\n",
            "Buzz\n",
            "56\n",
            "Fizz\n",
            "58\n",
            "59\n",
            "fizz buzz\n",
            "61\n",
            "62\n",
            "Fizz\n",
            "64\n",
            "Buzz\n",
            "Fizz\n",
            "67\n",
            "68\n",
            "Fizz\n",
            "Buzz\n",
            "71\n",
            "Fizz\n",
            "73\n",
            "74\n",
            "fizz buzz\n",
            "76\n",
            "77\n",
            "Fizz\n",
            "79\n",
            "Buzz\n",
            "Fizz\n",
            "82\n",
            "83\n",
            "Fizz\n",
            "Buzz\n",
            "86\n",
            "Fizz\n",
            "88\n",
            "89\n",
            "fizz buzz\n",
            "91\n",
            "92\n",
            "Fizz\n",
            "94\n",
            "Buzz\n",
            "Fizz\n",
            "97\n",
            "98\n",
            "Fizz\n"
          ],
          "name": "stdout"
        }
      ]
    },
    {
      "cell_type": "code",
      "metadata": {
        "id": "9vzqjsU5fLrm",
        "colab_type": "code",
        "colab": {
          "base_uri": "https://localhost:8080/",
          "height": 85
        },
        "outputId": "44ebb1c5-e3fd-4aa1-a777-8b9a30c6a80a"
      },
      "source": [
        "#problem:11\n",
        "h=int(input(\"height \"))\n",
        "u=int(input(\"climb \"))\n",
        "d=int(input(\"down \"))\n",
        "x=0\n",
        "count=0\n",
        "while x<=(h-u):\n",
        "    x=x+(u-d)\n",
        "    count+=1\n",
        "print(count+1)"
      ],
      "execution_count": null,
      "outputs": [
        {
          "output_type": "stream",
          "text": [
            "height 200\n",
            "climb 50\n",
            "down 1\n",
            "5\n"
          ],
          "name": "stdout"
        }
      ]
    }
  ]
}